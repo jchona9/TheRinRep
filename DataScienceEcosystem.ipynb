{
  "metadata": {
    "kernelspec": {
      "name": "python",
      "display_name": "Python (Pyodide)",
      "language": "python"
    },
    "language_info": {
      "codemirror_mode": {
        "name": "python",
        "version": 3
      },
      "file_extension": ".py",
      "mimetype": "text/x-python",
      "name": "python",
      "nbconvert_exporter": "python",
      "pygments_lexer": "ipython3",
      "version": "3.8"
    }
  },
  "nbformat_minor": 5,
  "nbformat": 4,
  "cells": [
    {
      "id": "035a33e1-8c20-4a92-b350-d3b2aa93eb0a",
      "cell_type": "markdown",
      "source": "\n# Data Science tools and ecosystem\n\n",
      "metadata": {}
    },
    {
      "id": "36f70cba-c1c8-44c8-88fa-eac7cc6e8c37",
      "cell_type": "markdown",
      "source": "In this notebook, the Data science tools and ecosystem will be summarized",
      "metadata": {}
    },
    {
      "id": "c519ecbb-24b2-43ec-952c-339a8c5d49c1",
      "cell_type": "markdown",
      "source": "__Objectives:__\n- List popular languages for Data Science\n- List commonly used libraries for Data Science\n- Create tables in markdown\n- Perform basic arithmetic operations in Python\n- Share Jupyter notebooks via GitHub",
      "metadata": {}
    },
    {
      "id": "dc40c63d-420c-4132-8161-8a70a3327228",
      "cell_type": "markdown",
      "source": "Some of the popular languages that Data Scientists use are:\n1. SQL\n2. R\n3. Python\n",
      "metadata": {}
    },
    {
      "id": "c9d72258-1c73-4d74-aee0-c3f63fbf78e3",
      "cell_type": "markdown",
      "source": "Some of the commonly used libraries used by Data Scientists include:\n\n1. Pandas\n2. NumPy\n3. Matplotlib",
      "metadata": {}
    },
    {
      "id": "3e141e9b-7e1c-43e9-b16c-5827f7dd418f",
      "cell_type": "markdown",
      "source": "| Data Science Tools |\n|--------------------|\n| Jupyter Notebook   |\n| RStudio            |\n| Apache Zeppelin    |",
      "metadata": {}
    },
    {
      "id": "57ba5b15-e076-4825-99aa-317fbf78c3fb",
      "cell_type": "markdown",
      "source": "### Below are a few examples of evaluating arithmetic expressions in Python.",
      "metadata": {}
    },
    {
      "id": "8f2daf27-16b3-4f6f-b645-12277f20b3b3",
      "cell_type": "code",
      "source": "# This a simple arithmetic expression to multiply then add integers\n(3*4)+5\n",
      "metadata": {
        "trusted": true
      },
      "outputs": [
        {
          "execution_count": 1,
          "output_type": "execute_result",
          "data": {
            "text/plain": "17"
          },
          "metadata": {}
        }
      ],
      "execution_count": 1
    },
    {
      "id": "2a92a18f-815b-46c1-b12a-6ca51b07e3c0",
      "cell_type": "code",
      "source": "# This will convert 200 minutes to hours by dividing by 60\n200 / 60",
      "metadata": {
        "trusted": true
      },
      "outputs": [
        {
          "execution_count": 2,
          "output_type": "execute_result",
          "data": {
            "text/plain": "3.3333333333333335"
          },
          "metadata": {}
        }
      ],
      "execution_count": 2
    },
    {
      "id": "d7b17b7f-c043-4737-9b31-e052f4dd1f3a",
      "cell_type": "markdown",
      "source": "## Author\n\nSebastián Rincón\n",
      "metadata": {}
    },
    {
      "id": "bd01c1c5-7186-4bf3-92cd-2b81e97ba25e",
      "cell_type": "code",
      "source": "",
      "metadata": {
        "trusted": true
      },
      "outputs": [],
      "execution_count": null
    }
  ]
}